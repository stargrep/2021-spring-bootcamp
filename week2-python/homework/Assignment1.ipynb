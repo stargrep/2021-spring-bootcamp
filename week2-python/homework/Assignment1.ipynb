{
 "cells": [
  {
   "cell_type": "code",
   "execution_count": 1,
   "metadata": {},
   "outputs": [
    {
     "ename": "AssertionError",
     "evalue": "",
     "output_type": "error",
     "traceback": [
      "\u001b[0;31m---------------------------------------------------------------------------\u001b[0m",
      "\u001b[0;31mAssertionError\u001b[0m                            Traceback (most recent call last)",
      "\u001b[0;32m<ipython-input-1-28203e5bd80c>\u001b[0m in \u001b[0;36m<module>\u001b[0;34m\u001b[0m\n\u001b[1;32m     14\u001b[0m \u001b[0;34m\u001b[0m\u001b[0m\n\u001b[1;32m     15\u001b[0m \u001b[0;31m# DO NOT ALTER BELOW.\u001b[0m\u001b[0;34m\u001b[0m\u001b[0;34m\u001b[0m\u001b[0;34m\u001b[0m\u001b[0m\n\u001b[0;32m---> 16\u001b[0;31m \u001b[0;32massert\u001b[0m \u001b[0mis_prime\u001b[0m\u001b[0;34m(\u001b[0m\u001b[0;36m2\u001b[0m\u001b[0;34m)\u001b[0m\u001b[0;34m\u001b[0m\u001b[0;34m\u001b[0m\u001b[0m\n\u001b[0m\u001b[1;32m     17\u001b[0m \u001b[0;32massert\u001b[0m \u001b[0;32mnot\u001b[0m \u001b[0mis_prime\u001b[0m\u001b[0;34m(\u001b[0m\u001b[0;36m15\u001b[0m\u001b[0;34m)\u001b[0m\u001b[0;34m\u001b[0m\u001b[0;34m\u001b[0m\u001b[0m\n\u001b[1;32m     18\u001b[0m \u001b[0;32massert\u001b[0m \u001b[0mis_prime\u001b[0m\u001b[0;34m(\u001b[0m\u001b[0;36m7907\u001b[0m\u001b[0;34m)\u001b[0m\u001b[0;34m\u001b[0m\u001b[0;34m\u001b[0m\u001b[0m\n",
      "\u001b[0;31mAssertionError\u001b[0m: "
     ]
    }
   ],
   "source": [
    "# Instruction: make sure your code pass the assertion statements\n",
    "\n",
    "# Given a positive integer N. The task is to write a Python program to check if the number is prime or not.\n",
    "def is_prime(n):\n",
    "    # Implement your code below here.\n",
    "    \n",
    "    # check input - n\n",
    "    if n <= 0 and isinstance(n, int):\n",
    "        return False\n",
    "\n",
    "    # early return \n",
    "    for i in range(2, n):\n",
    "        if n % i == 0:\n",
    "            return False\n",
    "    \n",
    "    return True\n",
    "\n",
    "# DO NOT ALTER BELOW.\n",
    "assert is_prime(2)\n",
    "assert not is_prime(15)\n",
    "assert is_prime(7907)\n",
    "assert not is_prime(-1)\n",
    "assert not is_prime(0)\n",
    "\n",
    "# 13 1，13\n",
    "(1)\n",
    "[2 ... 12] n...\n",
    "[2 3 4] \n",
    "\n",
    "(2)\n",
    "[2,3,5,7,11,13]\n"
   ]
  },
  {
   "cell_type": "code",
   "execution_count": 3,
   "metadata": {},
   "outputs": [],
   "source": [
    "# Write a function rotate(ar[], d) that rotates arr[] of size n by d elements.\n",
    "# Input ar = [1,2,3,4,5,6,7], d = 2\n",
    "# Output [3,4,5,6,7,1,2]\n",
    "\n",
    "\n",
    "# understand question and test case\n",
    "# check input\n",
    "# algorithm\n",
    "# check return\n",
    "\n",
    "def rotate(ar, d):\n",
    "    #? ar is None or Empty?\n",
    "    # d >= 0\n",
    "    \n",
    "    return []\n",
    "\n",
    "# DO NOT ALTER BELOW.\n",
    "assert rotate([1,2,3,4,5,6,7], 4) == [3,4,5,6,7,1,2]\n",
    "assert rotate([1,2,3], 4) == [2,3,1]\n",
    "\n",
    "\n",
    "[2,4,5,6,7,1,3]\n",
    "# in-place\n",
    "# swap\n",
    "tmp = L[6]\n",
    "L[6] = L[0]\n",
    "L[0] = tmp\n",
    "O(1)\n",
    "\n",
    "[1,2,3,4,5]\n",
    "swap(0,4) # index\n",
    "swap(1,3)\n",
    "swap(2,2) # no op\n",
    "[5,4,3,2,1]\n",
    "\n",
    "[12 | 34567]\n",
    "(1) split rotation\n",
    "[21 | 76543]\n",
    "(2) total rotation\n",
    "[34567 | 12]\n",
    "\n"
   ]
  },
  {
   "cell_type": "code",
   "execution_count": 4,
   "metadata": {},
   "outputs": [],
   "source": [
    "# Selection sort - implement a workable selection sort algorithm\n",
    "# https://www.runoob.com/w3cnote/selection-sort.html 作为参考\n",
    "# Input students would be a list of [student #, score], sort by score ascending order.\n",
    "def selection_sort(arr):\n",
    "    for i in range(len(arr) - 1):\n",
    "        # 记录最小数的索引\n",
    "        minIndex = i\n",
    "        for j in range(i + 1, len(arr)):\n",
    "            if arr[j][1] < arr[minIndex][1]:\n",
    "                minIndex = j\n",
    "        # i 不是最小数时，将 i 和最小数进行交换\n",
    "        if i != minIndex:\n",
    "            arr[i], arr[minIndex] = arr[minIndex], arr[i]\n",
    "    return arr\n",
    "\n",
    "# DO NOT ALTER BELOW.\n",
    "assert selection_sort([]) == []\n",
    "assert selection_sort([[1, 100], [2, 70], [3, 95], [4, 66], [5, 98]]) == [[4, 66], [2, 70], [3, 95], [5, 98], [1, 100]]\n",
    "\n",
    "# selection, merge (divide-conque), quick sort"
   ]
  },
  {
   "cell_type": "code",
   "execution_count": 14,
   "metadata": {},
   "outputs": [],
   "source": [
    "# Convert a list of Tuples into Dictionary\n",
    "\n",
    "# copy operation - copy by value, copy by reference\n",
    "# 123, String, immutable (copy by value)\n",
    "# mutable, list, dict... (copy by reference)\n",
    "def convert(tup, di): \n",
    "    idx = 0\n",
    "    while idx < len(tup):\n",
    "        di[tup[idx]] = tup[idx + 1]\n",
    "        idx = idx + 2\n",
    "    # Do NOT RETURN di, EDIT IN-PLACE\n",
    "      \n",
    "# DO NOT ALTER BELOW.\n",
    "expected_dict = {}\n",
    "convert((), expected_dict)\n",
    "assert expected_dict == {}\n",
    "\n",
    "convert(('key1', 'val1', 'key2', 'val2'), expected_dict)\n",
    "assert expected_dict == {'key1': 'val1', 'key2': 'val2'} \n"
   ]
  },
  {
   "cell_type": "code",
   "execution_count": 11,
   "metadata": {},
   "outputs": [
    {
     "name": "stdout",
     "output_type": "stream",
     "text": [
      "hello, world\n",
      "hello\n",
      "[1, 2, 3]\n",
      "[1, 2, 3]\n"
     ]
    }
   ],
   "source": [
    "def test1(input_int):\n",
    "    input_int = input_int + \", world\"\n",
    "    print(input_int)\n",
    "    return input_int\n",
    "\n",
    "str_val = \"hello\"\n",
    "test1(str_val)\n",
    "print(str_val)\n",
    "\n",
    "def test2(input_list, num):\n",
    "    input_list.append(num)\n",
    "    print(input_list)\n",
    "    return input_list\n",
    "\n",
    "list_val = [1,2]\n",
    "test2(list_val, 3)\n",
    "print(list_val)\n",
    "\n",
    "# list -> reference (id)\n",
    "#      -> value [1,2,3,4,5,6,]\n",
    "    \n",
    "# stack -> memory space (MB)\n",
    "# heap -> storage space (GB)"
   ]
  },
  {
   "cell_type": "code",
   "execution_count": null,
   "metadata": {},
   "outputs": [],
   "source": [
    "# 研究为什么 Python dict 可以做到常数级别的查找效率，将答案写在 Assignment1-answer.ipynb"
   ]
  }
 ],
 "metadata": {
  "kernelspec": {
   "display_name": "Python 3",
   "language": "python",
   "name": "python3"
  },
  "language_info": {
   "codemirror_mode": {
    "name": "ipython",
    "version": 3
   },
   "file_extension": ".py",
   "mimetype": "text/x-python",
   "name": "python",
   "nbconvert_exporter": "python",
   "pygments_lexer": "ipython3",
   "version": "3.7.6"
  }
 },
 "nbformat": 4,
 "nbformat_minor": 4
}
