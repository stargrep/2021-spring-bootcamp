{
 "cells": [
  {
   "cell_type": "code",
   "execution_count": 7,
   "metadata": {},
   "outputs": [
    {
     "name": "stdout",
     "output_type": "stream",
     "text": [
      "False\n"
     ]
    },
    {
     "ename": "AssertionError",
     "evalue": "",
     "output_type": "error",
     "traceback": [
      "\u001b[1;31m---------------------------------------------------------------------------\u001b[0m",
      "\u001b[1;31mAssertionError\u001b[0m                            Traceback (most recent call last)",
      "\u001b[1;32m<ipython-input-7-b3e8eecfd9c0>\u001b[0m in \u001b[0;36m<module>\u001b[1;34m()\u001b[0m\n\u001b[0;32m     20\u001b[0m \u001b[0mprint\u001b[0m\u001b[1;33m(\u001b[0m\u001b[0mqwe\u001b[0m\u001b[1;33m)\u001b[0m\u001b[1;33m\u001b[0m\u001b[0m\n\u001b[0;32m     21\u001b[0m \u001b[1;31m# DO NOT ALTER BELOW.\u001b[0m\u001b[1;33m\u001b[0m\u001b[1;33m\u001b[0m\u001b[0m\n\u001b[1;32m---> 22\u001b[1;33m \u001b[1;32massert\u001b[0m \u001b[0mis_prime\u001b[0m\u001b[1;33m(\u001b[0m\u001b[1;36m2\u001b[0m\u001b[1;33m)\u001b[0m\u001b[1;33m\u001b[0m\u001b[0m\n\u001b[0m\u001b[0;32m     23\u001b[0m \u001b[1;32massert\u001b[0m \u001b[1;32mnot\u001b[0m \u001b[0mis_prime\u001b[0m\u001b[1;33m(\u001b[0m\u001b[1;36m15\u001b[0m\u001b[1;33m)\u001b[0m\u001b[1;33m\u001b[0m\u001b[0m\n\u001b[0;32m     24\u001b[0m \u001b[1;32massert\u001b[0m \u001b[0mis_prime\u001b[0m\u001b[1;33m(\u001b[0m\u001b[1;36m7907\u001b[0m\u001b[1;33m)\u001b[0m\u001b[1;33m\u001b[0m\u001b[0m\n",
      "\u001b[1;31mAssertionError\u001b[0m: "
     ]
    }
   ],
   "source": [
    "# Instruction: make sure your code pass the assertion statements\n",
    "\n",
    "# Given a positive integer N. The task is to write a Python program to check if the number is prime or not.\n",
    "def is_prime(n):\n",
    "    # Implement your code below here.\n",
    "    if n >= 2:\n",
    "        for i in range(2,n):\n",
    "            if n % i == 0:\n",
    "                return False\n",
    "            return True\n",
    "\n",
    "    # check input - n\n",
    "    if n <= 0 and isinstance(n, int):\n",
    "        return False\n",
    "\n",
    "    # early return \n",
    "    \n",
    "    return False\n",
    "qwe = is_prime(1.5)\n",
    "print(qwe)\n",
    "# DO NOT ALTER BELOW.\n",
    "# assert is_prime(2)\n",
    "# assert not is_prime(15)\n",
    "# assert is_prime(7907)\n",
    "# assert not is_prime(-1)\n",
    "# assert not is_prime(0)\n",
    "# int - positive / 0 / negative\n",
    "# type must be int\n",
    "#print(isinstance(13, int))\n",
    "#print(isinstance(35.0, int))\n",
    "# (1)\n",
    "# 13 / 1, 13\n",
    "# [2,3,4...12] -> \n",
    "# if 整除 -> False\n",
    "# else -> True\n",
    "\n",
    "# 14/2 False\n",
    "# 13/3 ?\n",
    "# 13/4 ?\n",
    "# ...\n",
    "# 13/12 ?\n",
    "# True\n",
    "\n",
    "# (2)\n",
    "# 14\n",
    "# < n prime number --> [2,3,5,7,11,13]\n",
    "# 1M << 1M ~= 10%\n",
    "# (1/10)\n",
    "\n",
    "# (3)\n"
   ]
  },
  {
   "cell_type": "code",
   "execution_count": 10,
   "metadata": {},
   "outputs": [
    {
     "data": {
      "text/plain": [
       "[[4, 5, 6467, 3]]"
      ]
     },
     "execution_count": 10,
     "metadata": {},
     "output_type": "execute_result"
    }
   ],
   "source": [
    "# Write a function rotate(ar[], d) that rotates arr[] of size n by d elements.\n",
    "# Input ar = [1,2,3,4,5,6,7], d = 2\n",
    "# Output [3,4,5,6,7,1,2]\n",
    "\n",
    "\n",
    "# understand question and test case\n",
    "# check input\n",
    "# algorithm\n",
    "# check return\n",
    "\n",
    "def rotate(ar, d):\n",
    "    #? ar is None or Empty?\n",
    "    # d >= 0\n",
    "    if len(ar) > 0:\n",
    "        if d >=0:\n",
    "            if len(ar) > d:\n",
    "                for i in range(d):\n",
    "                    p = ar[0]\n",
    "                    del ar[0]\n",
    "                    ar.append(p)\n",
    "            else:\n",
    "                 d = d % len(ar)\n",
    "            for i in range(d):\n",
    "                p = ar[0]\n",
    "                del ar[0]\n",
    "                ar.append(p)\n",
    "        else:#d < 0\n",
    "            return False\n",
    "    else:#len(ar) <= 0      \n",
    "        return False\n",
    "    return [ar]\n",
    "\n",
    "qwe = [3,4,5,6467]\n",
    "rotate(qwe,9)\n",
    "# DO NOT ALTER BELOW.\n",
    "# assert rotate([1,2,3,4,5,6,7], 2) == [3,4,5,6,7,1,2]\n",
    "\n",
    "# [12|34567] + [12|34567]\n",
    "# |3456712|\n",
    "\n",
    "\n",
    "# 7234561\n",
    "# 76543 21\n",
    "# 34567 12\n",
    "# 3456712\n",
    "\n",
    "\n",
    "# --> in-place 消耗时间，不消耗空间\n",
    "\n",
    "\n",
    "# 1234567\n",
    "#     rotate_once\n",
    "# 2345671\n",
    "#     list[0] -> delete, \n",
    "#     list[-1] append list[0]\n",
    "#     234567  <-  1\n",
    "    \n",
    "# 3456712\n",
    "# 4567123\n",
    "    \n",
    "# 100 times\n",
    "\n",
    "# assert rotate([1,2,3], 4) == [2,3,1]\n",
    "\n",
    "# 1234\n",
    "# 2341\n",
    "# 3412\n",
    "# 4123\n",
    "\n",
    "# 100 % 4 = 0\n",
    "# len(ar)\n",
    "\n",
    "\n",
    "\n"
   ]
  },
  {
   "cell_type": "code",
   "execution_count": 36,
   "metadata": {},
   "outputs": [
    {
     "data": {
      "text/plain": [
       "[[4, 66], [2, 70], [3, 95], [5, 98], [1, 100]]"
      ]
     },
     "execution_count": 36,
     "metadata": {},
     "output_type": "execute_result"
    }
   ],
   "source": [
    "# Selection sort - implement a workable selection sort algorithm\n",
    "# https://www.runoob.com/w3cnote/selection-sort.html 作为参考\n",
    "# Input students would be a list of [student #, score], sort by score ascending order.\n",
    "def selection_sort(students):\n",
    "    for j in range(len(students)-1):\n",
    "        for m in range(len(students) - j - 1):\n",
    "            if students[m][1] > students[m + 1][1]:\n",
    "                midd = students[m]\n",
    "                students[m] = students[m + 1]\n",
    "                students[m + 1] = midd\n",
    "    return students\n",
    "gh = [[1, 100], [2, 70], [3, 95], [4, 66], [5, 98]]\n",
    "selection_sort(gh)\n",
    "# # DO NOT ALTER BELOW.\n",
    "# assert selection_sort([]) == []\n",
    "# assert selection_sort([[1, 100], [2, 70], [3, 95], [4, 66], [5, 98]]) == [[4, 66], [2, 70], [3, 95], [5, 98], [1, 100]]"
   ]
  },
  {
   "cell_type": "code",
   "execution_count": 4,
   "metadata": {},
   "outputs": [],
   "source": [
    "# Convert a list of Tuples into Dictionary\n",
    "\n",
    "def convert(tup, di): \n",
    "    # Do NOT RETURN di, EDIT IN-PLACE\n",
    "    global expected_dict\n",
    "    tup = list(tup)\n",
    "    if len(tup) % 2 == 0:\n",
    "        for i in range(int(len(tup))):\n",
    "            if i % 2 == 0:\n",
    "                expected_dict[tup[i]] = tup[i + 1]\n",
    "    else:\n",
    "        for j in range((int(len(tup) - 1))):\n",
    "            if j % 2 == 0:\n",
    "                expected_dict[tup[j]] = tup[j + 1]\n",
    "        expected_dict[tup[-1]] = []\n",
    "    \n",
    "\n",
    "# DO NOT ALTER BELOW.\n",
    "expected_dict = {}\n",
    "convert((), expected_dict)\n",
    "assert expected_dict == {}\n",
    "convert(('key1', 'val1', 'key2', 'val2'), expected_dict)\n",
    "assert expected_dict == {'key1': 'val1', 'key2': 'val2'} \n"
   ]
  },
  {
   "cell_type": "code",
   "execution_count": 2,
   "metadata": {},
   "outputs": [],
   "source": [
    "# 研究为什么 Python dict 可以做到常数级别的查找效率，将答案写在 Assignment1-answer.ipynb\n",
    "# 1.dict的每一个key都对应一个hash(key),查找过程中可以根据哈希值找到它对应的哈希表中的位置，比较此位置中元素的哈希值与key，判断与需要查找的元素是否相等，相等，则返回。\n",
    "# 2.dict查找时间不受dict中元素个数的影响"
   ]
  },
  {
   "cell_type": "code",
   "execution_count": null,
   "metadata": {},
   "outputs": [],
   "source": []
  },
  {
   "cell_type": "code",
   "execution_count": null,
   "metadata": {},
   "outputs": [],
   "source": []
  },
  {
   "cell_type": "code",
   "execution_count": null,
   "metadata": {},
   "outputs": [],
   "source": []
  }
 ],
 "metadata": {
  "kernelspec": {
   "display_name": "Python 3",
   "language": "python",
   "name": "python3"
  },
  "language_info": {
   "codemirror_mode": {
    "name": "ipython",
    "version": 3
   },
   "file_extension": ".py",
   "mimetype": "text/x-python",
   "name": "python",
   "nbconvert_exporter": "python",
   "pygments_lexer": "ipython3",
   "version": "3.7.0"
  }
 },
 "nbformat": 4,
 "nbformat_minor": 4
}
